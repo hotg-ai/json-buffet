{
 "cells": [
  {
   "cell_type": "code",
   "execution_count": 39,
   "id": "fc376360",
   "metadata": {},
   "outputs": [
    {
     "name": "stdout",
     "output_type": "stream",
     "text": [
      "Requirement already satisfied: duckdb in /home/gitpod/.pyenv/versions/3.8.13/lib/python3.8/site-packages (0.4.0)\n",
      "Requirement already satisfied: uuid in /home/gitpod/.pyenv/versions/3.8.13/lib/python3.8/site-packages (1.30)\n",
      "Collecting pandas\n",
      "  Downloading pandas-1.4.3-cp38-cp38-manylinux_2_17_x86_64.manylinux2014_x86_64.whl (11.7 MB)\n",
      "\u001b[2K     \u001b[90m━━━━━━━━━━━━━━━━━━━━━━━━━━━━━━━━━━━━━━━\u001b[0m \u001b[32m11.7/11.7 MB\u001b[0m \u001b[31m133.0 MB/s\u001b[0m eta \u001b[36m0:00:00\u001b[0m00:01\u001b[0m00:01\u001b[0m\n",
      "\u001b[?25hRequirement already satisfied: numpy>=1.14 in /home/gitpod/.pyenv/versions/3.8.13/lib/python3.8/site-packages (from duckdb) (1.23.1)\n",
      "Requirement already satisfied: python-dateutil>=2.8.1 in /home/gitpod/.pyenv/versions/3.8.13/lib/python3.8/site-packages (from pandas) (2.8.2)\n",
      "Collecting pytz>=2020.1\n",
      "  Downloading pytz-2022.1-py2.py3-none-any.whl (503 kB)\n",
      "\u001b[2K     \u001b[90m━━━━━━━━━━━━━━━━━━━━━━━━━━━━━━━━━━━━━\u001b[0m \u001b[32m503.5/503.5 kB\u001b[0m \u001b[31m116.4 MB/s\u001b[0m eta \u001b[36m0:00:00\u001b[0m\n",
      "\u001b[?25hRequirement already satisfied: six>=1.5 in /home/gitpod/.pyenv/versions/3.8.13/lib/python3.8/site-packages (from python-dateutil>=2.8.1->pandas) (1.16.0)\n",
      "Installing collected packages: pytz, pandas\n",
      "Successfully installed pandas-1.4.3 pytz-2022.1\n"
     ]
    }
   ],
   "source": [
    "!pip install duckdb uuid pandas"
   ]
  },
  {
   "cell_type": "code",
   "execution_count": 94,
   "id": "375731f4",
   "metadata": {},
   "outputs": [],
   "source": [
    "import pandas as pd\n",
    "import mmap\n",
    "import os\n",
    "import duckdb\n",
    "import uuid\n",
    "import json\n",
    "import glob"
   ]
  },
  {
   "cell_type": "code",
   "execution_count": 49,
   "id": "43fbbb4d",
   "metadata": {},
   "outputs": [],
   "source": [
    "df = pd.read_csv('../build/extracted_npi_offsets.csv', names=['NPI', 'offset', 'size'])"
   ]
  },
  {
   "cell_type": "code",
   "execution_count": 114,
   "id": "b1a30231",
   "metadata": {},
   "outputs": [
    {
     "data": {
      "text/html": [
       "<div>\n",
       "<style scoped>\n",
       "    .dataframe tbody tr th:only-of-type {\n",
       "        vertical-align: middle;\n",
       "    }\n",
       "\n",
       "    .dataframe tbody tr th {\n",
       "        vertical-align: top;\n",
       "    }\n",
       "\n",
       "    .dataframe thead th {\n",
       "        text-align: right;\n",
       "    }\n",
       "</style>\n",
       "<table border=\"1\" class=\"dataframe\">\n",
       "  <thead>\n",
       "    <tr style=\"text-align: right;\">\n",
       "      <th></th>\n",
       "      <th>NPI</th>\n",
       "      <th>offset</th>\n",
       "      <th>size</th>\n",
       "    </tr>\n",
       "  </thead>\n",
       "  <tbody>\n",
       "    <tr>\n",
       "      <th>0</th>\n",
       "      <td>1962697342</td>\n",
       "      <td>99985389</td>\n",
       "      <td>4510</td>\n",
       "    </tr>\n",
       "    <tr>\n",
       "      <th>1</th>\n",
       "      <td>1992023816</td>\n",
       "      <td>99985389</td>\n",
       "      <td>4510</td>\n",
       "    </tr>\n",
       "    <tr>\n",
       "      <th>2</th>\n",
       "      <td>1861835290</td>\n",
       "      <td>99985389</td>\n",
       "      <td>4510</td>\n",
       "    </tr>\n",
       "    <tr>\n",
       "      <th>3</th>\n",
       "      <td>1801865787</td>\n",
       "      <td>99985389</td>\n",
       "      <td>4510</td>\n",
       "    </tr>\n",
       "    <tr>\n",
       "      <th>4</th>\n",
       "      <td>1861699548</td>\n",
       "      <td>99985389</td>\n",
       "      <td>4510</td>\n",
       "    </tr>\n",
       "    <tr>\n",
       "      <th>...</th>\n",
       "      <td>...</td>\n",
       "      <td>...</td>\n",
       "      <td>...</td>\n",
       "    </tr>\n",
       "    <tr>\n",
       "      <th>5424824</th>\n",
       "      <td>1154400513</td>\n",
       "      <td>84086296</td>\n",
       "      <td>599607</td>\n",
       "    </tr>\n",
       "    <tr>\n",
       "      <th>5424825</th>\n",
       "      <td>1174502934</td>\n",
       "      <td>59477315</td>\n",
       "      <td>1422148</td>\n",
       "    </tr>\n",
       "    <tr>\n",
       "      <th>5424826</th>\n",
       "      <td>1710414560</td>\n",
       "      <td>45976282</td>\n",
       "      <td>6567</td>\n",
       "    </tr>\n",
       "    <tr>\n",
       "      <th>5424827</th>\n",
       "      <td>1720224801</td>\n",
       "      <td>59477315</td>\n",
       "      <td>1422148</td>\n",
       "    </tr>\n",
       "    <tr>\n",
       "      <th>5424828</th>\n",
       "      <td>1053430645</td>\n",
       "      <td>59477315</td>\n",
       "      <td>1422148</td>\n",
       "    </tr>\n",
       "  </tbody>\n",
       "</table>\n",
       "<p>5424829 rows × 3 columns</p>\n",
       "</div>"
      ],
      "text/plain": [
       "                NPI    offset     size\n",
       "0        1962697342  99985389     4510\n",
       "1        1992023816  99985389     4510\n",
       "2        1861835290  99985389     4510\n",
       "3        1801865787  99985389     4510\n",
       "4        1861699548  99985389     4510\n",
       "...             ...       ...      ...\n",
       "5424824  1154400513  84086296   599607\n",
       "5424825  1174502934  59477315  1422148\n",
       "5424826  1710414560  45976282     6567\n",
       "5424827  1720224801  59477315  1422148\n",
       "5424828  1053430645  59477315  1422148\n",
       "\n",
       "[5424829 rows x 3 columns]"
      ]
     },
     "execution_count": 114,
     "metadata": {},
     "output_type": "execute_result"
    }
   ],
   "source": [
    "df"
   ]
  },
  {
   "cell_type": "code",
   "execution_count": 90,
   "id": "ada92ed8",
   "metadata": {},
   "outputs": [],
   "source": [
    "fbuff = open(\"../data/xxx/xaa\", mode=\"r\", encoding=\"utf8\")"
   ]
  },
  {
   "cell_type": "code",
   "execution_count": 112,
   "id": "aa69b282",
   "metadata": {},
   "outputs": [],
   "source": [
    "for row in df[df[\"NPI\"] == 1316036643].to_records():\n",
    "    fbuff.seek(row[2], 0)\n",
    "    data = fbuff.read(row[3])\n",
    "    obj = json.loads(data)\n",
    "    pgs = []\n",
    "    pg_tin = {}\n",
    "    npi_tins = []\n",
    "    negotiated_rates = []\n",
    "    npi_negotiated_rates = []\n",
    "\n",
    "    provider_groups = obj['provider_groups']\n",
    "    #print(obj\n",
    "    for pg in provider_groups:\n",
    "        tin = pg['tin']['value']\n",
    "        npis = pg['npi']\n",
    "\n",
    "       # print(pg)\n",
    "        if (pg_tin.get(tin) != True):\n",
    "            pgs.append([tin, pg['tin']['type']])\n",
    "            pg_tin[tin] = True\n",
    "\n",
    "        for npi in npis:\n",
    "            npi_tins.append([npi, tin])\n",
    "    for nr in obj['negotiated_prices']:\n",
    "        nr_id = str(uuid.uuid4())\n",
    "        negotiated_rates.append([\n",
    "            nr_id,\n",
    "            tin,\n",
    "            nr['negotiated_type'],\n",
    "            nr['negotiated_rate'],\n",
    "            nr['expiration_date'],\n",
    "            nr['service_code'],\n",
    "            nr['billing_class'],\n",
    "            nr['billing_code_modifier'],\n",
    "            nr['additional_information']\n",
    "        ])\n",
    "        for npi in npi_tins:\n",
    "            npi_negotiated_rates.append([\n",
    "                nr_id,\n",
    "                npi[0]\n",
    "            ])\n",
    "    con.executemany('INSERT INTO provider_groups VALUES (?, ?)', pgs)\n",
    "    con.executemany('INSERT INTO npi_tin VALUES (?, ?)', npi_tins)\n",
    "    con.executemany('INSERT INTO negotiated_rates VALUES (?, ?, ?, ?, ?, ?, ?, ?, ?)', negotiated_rates)"
   ]
  },
  {
   "cell_type": "code",
   "execution_count": 103,
   "id": "e36da567",
   "metadata": {},
   "outputs": [
    {
     "data": {
      "text/plain": [
       "[(213.637,)]"
      ]
     },
     "execution_count": 103,
     "metadata": {},
     "output_type": "execute_result"
    }
   ],
   "source": [
    "con.execute(\"select avg(negotiation_rate) from negotiated_rates\").fetchall()"
   ]
  },
  {
   "cell_type": "code",
   "execution_count": 92,
   "id": "b5b2f622",
   "metadata": {},
   "outputs": [],
   "source": [
    "con = duckdb.connect(database='1316036643_indexed.duckdb', read_only=False)"
   ]
  },
  {
   "cell_type": "code",
   "execution_count": 113,
   "id": "bb35c658",
   "metadata": {},
   "outputs": [],
   "source": [
    "con.close()"
   ]
  },
  {
   "cell_type": "code",
   "execution_count": 110,
   "id": "cf93c1f3",
   "metadata": {},
   "outputs": [
    {
     "data": {
      "text/plain": [
       "<duckdb.DuckDBPyConnection at 0x7fbbef7253f0>"
      ]
     },
     "execution_count": 110,
     "metadata": {},
     "output_type": "execute_result"
    }
   ],
   "source": [
    "\n",
    "con.execute(\"CREATE OR REPLACE TABLE extract(id UUID default uuid(), file VARCHAR, extracted_at TIMESTAMP, offs INTEGER, size INTEGER)\")\n",
    "con.execute(\"CREATE OR REPLACE TABLE provider_groups(tin VARCHAR, type VARCHAR)\")\n",
    "con.execute(\"CREATE OR REPLACE TABLE npi_tin(npi VARCHAR, tin VARCHAR)\")\n",
    "con.execute(\"CREATE OR REPLACE TABLE npi_extract(npi VARCHAR, extract UUID)\")\n",
    "con.execute(\"CREATE OR REPLACE TABLE negotiated_rates(id UUID default uuid(), tin VARCHAR, negotiated_type VARCHAR, negotiation_rate DOUBLE, expiration_date TIMESTAMP, service_code VARCHAR[], billing_class VARCHAR, billing_code_modifier VARCHAR[], additional_information VARCHAR)\")\n",
    "con.execute(\"CREATE OR REPLACE TABLE npi_negotiated_rates(negotiate_rate_id UUID, npi VARCHAR)\")\n"
   ]
  },
  {
   "cell_type": "code",
   "execution_count": 111,
   "id": "b940d74d",
   "metadata": {},
   "outputs": [
    {
     "data": {
      "text/plain": [
       "<duckdb.DuckDBPyConnection at 0x7fbbef7253f0>"
      ]
     },
     "execution_count": 111,
     "metadata": {},
     "output_type": "execute_result"
    }
   ],
   "source": [
    "con.execute(\"DELETE FROM provider_groups\")\n",
    "con.execute(\"DELETE FROM npi_tin\")\n",
    "con.execute(\"DELETE FROM negotiated_rates\")\n",
    "con.execute(\"DELETE FROM npi_negotiated_rates\")"
   ]
  },
  {
   "cell_type": "code",
   "execution_count": 31,
   "id": "9c5ffc9d",
   "metadata": {},
   "outputs": [
    {
     "name": "stdout",
     "output_type": "stream",
     "text": [
      "extracted/xaa/1.json file\n",
      "extracted/xaa/10.json file\n",
      "extracted/xaa/11.json file\n",
      "extracted/xaa/2.json file\n",
      "extracted/xaa/3.json file\n",
      "extracted/xaa/4.json file\n",
      "extracted/xaa/5.json file\n",
      "extracted/xaa/6.json file\n",
      "extracted/xaa/7.json file\n",
      "extracted/xaa/8.json file\n",
      "extracted/xaa/9.json file\n"
     ]
    }
   ],
   "source": []
  },
  {
   "cell_type": "code",
   "execution_count": 32,
   "id": "e8d1af9a",
   "metadata": {},
   "outputs": [
    {
     "data": {
      "text/plain": [
       "<duckdb.DuckDBPyConnection at 0x7fbc7c077d70>"
      ]
     },
     "execution_count": 32,
     "metadata": {},
     "output_type": "execute_result"
    }
   ],
   "source": [
    "con.executemany('INSERT INTO provider_groups VALUES (?, ?)', pgs)\n",
    "con.executemany('INSERT INTO npi_tin VALUES (?, ?)', npi_tins)\n",
    "con.executemany('INSERT INTO negotiated_rates VALUES (?, ?, ?, ?, ?, ?, ?, ?, ?)', negotiated_rates)\n",
    "con.executemany('INSERT INTO npi_negotiated_rates VALUES (?, ?)', npi_negotiated_rates)"
   ]
  },
  {
   "cell_type": "code",
   "execution_count": 104,
   "id": "6e56c06b",
   "metadata": {},
   "outputs": [
    {
     "name": "stdout",
     "output_type": "stream",
     "text": [
      "-rw-r--r-- 1 gitpod gitpod 8.6M Jul 12 13:58 indexed.duckdb\r\n"
     ]
    }
   ],
   "source": [
    "!ls -larth indexed.duckdb"
   ]
  },
  {
   "cell_type": "code",
   "execution_count": 34,
   "id": "f8a3ac8c",
   "metadata": {},
   "outputs": [
    {
     "data": {
      "text/plain": [
       "<duckdb.DuckDBPyConnection at 0x7fbc7c077d70>"
      ]
     },
     "execution_count": 34,
     "metadata": {},
     "output_type": "execute_result"
    }
   ],
   "source": []
  },
  {
   "cell_type": "code",
   "execution_count": 37,
   "id": "0462ce66",
   "metadata": {},
   "outputs": [
    {
     "ename": "RuntimeError",
     "evalue": "Query interrupted",
     "output_type": "error",
     "traceback": [
      "\u001b[0;31m---------------------------------------------------------------------------\u001b[0m",
      "\u001b[0;31mKeyboardInterrupt\u001b[0m                         Traceback (most recent call last)",
      "\u001b[0;31mKeyboardInterrupt\u001b[0m: ",
      "\nThe above exception was the direct cause of the following exception:\n",
      "\u001b[0;31mRuntimeError\u001b[0m                              Traceback (most recent call last)",
      "Input \u001b[0;32mIn [37]\u001b[0m, in \u001b[0;36m<cell line: 1>\u001b[0;34m()\u001b[0m\n\u001b[0;32m----> 1\u001b[0m \u001b[43mcon\u001b[49m\u001b[38;5;241;43m.\u001b[39;49m\u001b[43mexecutemany\u001b[49m\u001b[43m(\u001b[49m\u001b[38;5;124;43m'\u001b[39;49m\u001b[38;5;124;43mINSERT INTO npi_negotiated_rates VALUES (?, ?)\u001b[39;49m\u001b[38;5;124;43m'\u001b[39;49m\u001b[43m,\u001b[49m\u001b[43m \u001b[49m\u001b[43mnpi_negotiated_rates\u001b[49m\u001b[43m)\u001b[49m\n",
      "\u001b[0;31mRuntimeError\u001b[0m: Query interrupted"
     ]
    }
   ],
   "source": []
  }
 ],
 "metadata": {
  "kernelspec": {
   "display_name": "Python 3 (ipykernel)",
   "language": "python",
   "name": "python3"
  },
  "language_info": {
   "codemirror_mode": {
    "name": "ipython",
    "version": 3
   },
   "file_extension": ".py",
   "mimetype": "text/x-python",
   "name": "python",
   "nbconvert_exporter": "python",
   "pygments_lexer": "ipython3",
   "version": "3.8.13"
  }
 },
 "nbformat": 4,
 "nbformat_minor": 5
}
