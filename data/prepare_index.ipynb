{
 "cells": [
  {
   "cell_type": "code",
   "execution_count": 39,
   "id": "719aeacb",
   "metadata": {},
   "outputs": [
    {
     "name": "stdout",
     "output_type": "stream",
     "text": [
      "Requirement already satisfied: duckdb in /home/gitpod/.pyenv/versions/3.8.13/lib/python3.8/site-packages (0.4.0)\n",
      "Requirement already satisfied: uuid in /home/gitpod/.pyenv/versions/3.8.13/lib/python3.8/site-packages (1.30)\n",
      "Collecting pandas\n",
      "  Downloading pandas-1.4.3-cp38-cp38-manylinux_2_17_x86_64.manylinux2014_x86_64.whl (11.7 MB)\n",
      "\u001b[2K     \u001b[90m━━━━━━━━━━━━━━━━━━━━━━━━━━━━━━━━━━━━━━━\u001b[0m \u001b[32m11.7/11.7 MB\u001b[0m \u001b[31m133.0 MB/s\u001b[0m eta \u001b[36m0:00:00\u001b[0m00:01\u001b[0m00:01\u001b[0m\n",
      "\u001b[?25hRequirement already satisfied: numpy>=1.14 in /home/gitpod/.pyenv/versions/3.8.13/lib/python3.8/site-packages (from duckdb) (1.23.1)\n",
      "Requirement already satisfied: python-dateutil>=2.8.1 in /home/gitpod/.pyenv/versions/3.8.13/lib/python3.8/site-packages (from pandas) (2.8.2)\n",
      "Collecting pytz>=2020.1\n",
      "  Downloading pytz-2022.1-py2.py3-none-any.whl (503 kB)\n",
      "\u001b[2K     \u001b[90m━━━━━━━━━━━━━━━━━━━━━━━━━━━━━━━━━━━━━\u001b[0m \u001b[32m503.5/503.5 kB\u001b[0m \u001b[31m116.4 MB/s\u001b[0m eta \u001b[36m0:00:00\u001b[0m\n",
      "\u001b[?25hRequirement already satisfied: six>=1.5 in /home/gitpod/.pyenv/versions/3.8.13/lib/python3.8/site-packages (from python-dateutil>=2.8.1->pandas) (1.16.0)\n",
      "Installing collected packages: pytz, pandas\n",
      "Successfully installed pandas-1.4.3 pytz-2022.1\n"
     ]
    }
   ],
   "source": [
    "!pip install duckdb uuid pandas"
   ]
  },
  {
   "cell_type": "code",
   "execution_count": 94,
   "id": "2d00ceaf",
   "metadata": {},
   "outputs": [],
   "source": [
    "import pandas as pd\n",
    "import mmap\n",
    "import os\n",
    "import duckdb\n",
    "import uuid\n",
    "import json\n",
    "import glob"
   ]
  },
  {
   "cell_type": "code",
   "execution_count": 49,
   "id": "4aa6272c",
   "metadata": {},
   "outputs": [],
   "source": [
    "df = pd.read_csv('../build/extracted_npi_offsets.csv', names=['NPI', 'offset', 'size'])"
   ]
  },
  {
   "cell_type": "code",
   "execution_count": 90,
   "id": "fddb05e0",
   "metadata": {},
   "outputs": [],
   "source": [
    "fbuff = open(\"../data/xxx/xaa\", mode=\"r\", encoding=\"utf8\")"
   ]
  },
  {
   "cell_type": "code",
   "execution_count": 96,
   "id": "5fa3195e",
   "metadata": {},
   "outputs": [
    {
     "ename": "RuntimeError",
     "evalue": "Constraint Error: Constraint Error: duplicate key \"tin: 720998823\" violates primary key constraint",
     "output_type": "error",
     "traceback": [
      "\u001b[0;31m---------------------------------------------------------------------------\u001b[0m",
      "\u001b[0;31mRuntimeError\u001b[0m                              Traceback (most recent call last)",
      "Input \u001b[0;32mIn [96]\u001b[0m, in \u001b[0;36m<cell line: 1>\u001b[0;34m()\u001b[0m\n\u001b[1;32m     37\u001b[0m     \u001b[38;5;28;01mfor\u001b[39;00m npi \u001b[38;5;129;01min\u001b[39;00m npi_tins:\n\u001b[1;32m     38\u001b[0m         npi_negotiated_rates\u001b[38;5;241m.\u001b[39mappend([\n\u001b[1;32m     39\u001b[0m             nr_id,\n\u001b[1;32m     40\u001b[0m             npi[\u001b[38;5;241m0\u001b[39m]\n\u001b[1;32m     41\u001b[0m         ])\n\u001b[0;32m---> 42\u001b[0m \u001b[43mcon\u001b[49m\u001b[38;5;241;43m.\u001b[39;49m\u001b[43mexecutemany\u001b[49m\u001b[43m(\u001b[49m\u001b[38;5;124;43m'\u001b[39;49m\u001b[38;5;124;43mINSERT INTO provider_groups VALUES (?, ?)\u001b[39;49m\u001b[38;5;124;43m'\u001b[39;49m\u001b[43m,\u001b[49m\u001b[43m \u001b[49m\u001b[43mpgs\u001b[49m\u001b[43m)\u001b[49m\n\u001b[1;32m     43\u001b[0m con\u001b[38;5;241m.\u001b[39mexecutemany(\u001b[38;5;124m'\u001b[39m\u001b[38;5;124mINSERT INTO npi_tin VALUES (?, ?)\u001b[39m\u001b[38;5;124m'\u001b[39m, npi_tins)\n\u001b[1;32m     44\u001b[0m con\u001b[38;5;241m.\u001b[39mexecutemany(\u001b[38;5;124m'\u001b[39m\u001b[38;5;124mINSERT INTO negotiated_rates VALUES (?, ?, ?, ?, ?, ?, ?, ?, ?)\u001b[39m\u001b[38;5;124m'\u001b[39m, negotiated_rates)\n",
      "\u001b[0;31mRuntimeError\u001b[0m: Constraint Error: Constraint Error: duplicate key \"tin: 720998823\" violates primary key constraint"
     ]
    }
   ],
   "source": [
    "for row in df[df[\"NPI\"] == 1316036643].to_records():\n",
    "    fbuff.seek(row[2], 0)\n",
    "    data = fbuff.read(row[3])\n",
    "    obj = json.loads(data)\n",
    "    pgs = []\n",
    "    pg_tin = {}\n",
    "    npi_tins = []\n",
    "    negotiated_rates = []\n",
    "    npi_negotiated_rates = []\n",
    "\n",
    "    provider_groups = obj['provider_groups']\n",
    "    #print(obj\n",
    "    for pg in provider_groups:\n",
    "        tin = pg['tin']['value']\n",
    "        npis = pg['npi']\n",
    "\n",
    "       # print(pg)\n",
    "        if (pg_tin.get(tin) != True):\n",
    "            pgs.append([tin, pg['tin']['type']])\n",
    "            pg_tin[tin] = True\n",
    "\n",
    "        for npi in npis:\n",
    "            npi_tins.append([npi, tin])\n",
    "    for nr in obj['negotiated_prices']:\n",
    "        nr_id = str(uuid.uuid4())\n",
    "        negotiated_rates.append([\n",
    "            nr_id,\n",
    "            tin,\n",
    "            nr['negotiated_type'],\n",
    "            nr['negotiated_rate'],\n",
    "            nr['expiration_date'],\n",
    "            nr['service_code'],\n",
    "            nr['billing_class'],\n",
    "            nr['billing_code_modifier'],\n",
    "            nr['additional_information']\n",
    "        ])\n",
    "        for npi in npi_tins:\n",
    "            npi_negotiated_rates.append([\n",
    "                nr_id,\n",
    "                npi[0]\n",
    "            ])\n",
    "    con.executemany('INSERT INTO provider_groups VALUES (?, ?)', pgs)\n",
    "    con.executemany('INSERT INTO npi_tin VALUES (?, ?)', npi_tins)\n",
    "    con.executemany('INSERT INTO negotiated_rates VALUES (?, ?, ?, ?, ?, ?, ?, ?, ?)', negotiated_rates)"
   ]
  },
  {
   "cell_type": "code",
   "execution_count": 15,
   "id": "e36da567",
   "metadata": {},
   "outputs": [],
   "source": []
  },
  {
   "cell_type": "code",
   "execution_count": 92,
   "id": "b5b2f622",
   "metadata": {},
   "outputs": [],
   "source": [
    "con = duckdb.connect(database='1316036643_indexed.duckdb', read_only=False)"
   ]
  },
  {
   "cell_type": "code",
   "execution_count": 93,
   "id": "cf93c1f3",
   "metadata": {},
   "outputs": [
    {
     "data": {
      "text/plain": [
       "<duckdb.DuckDBPyConnection at 0x7fbbef7253f0>"
      ]
     },
     "execution_count": 93,
     "metadata": {},
     "output_type": "execute_result"
    }
   ],
   "source": [
    "\n",
    "con.execute(\"CREATE OR REPLACE TABLE extract(id UUID default uuid(), file VARCHAR, extracted_at TIMESTAMP, offs INTEGER, size INTEGER)\")\n",
    "con.execute(\"CREATE OR REPLACE TABLE provider_groups(tin VARCHAR PRIMARY KEY, type VARCHAR)\")\n",
    "con.execute(\"CREATE OR REPLACE TABLE npi_tin(npi VARCHAR, tin VARCHAR)\")\n",
    "con.execute(\"CREATE OR REPLACE TABLE npi_extract(npi VARCHAR, extract UUID)\")\n",
    "con.execute(\"CREATE OR REPLACE TABLE negotiated_rates(id UUID default uuid(), tin VARCHAR, negotiated_type VARCHAR, negotiation_rate DOUBLE, expiration_date TIMESTAMP, service_code VARCHAR[], billing_class VARCHAR, billing_code_modifier VARCHAR[], additional_information VARCHAR)\")\n",
    "con.execute(\"CREATE OR REPLACE TABLE npi_negotiated_rates(negotiate_rate_id UUID, npi VARCHAR)\")\n"
   ]
  },
  {
   "cell_type": "code",
   "execution_count": 38,
   "id": "3ed3b5a9",
   "metadata": {},
   "outputs": [
    {
     "data": {
      "text/plain": [
       "<duckdb.DuckDBPyConnection at 0x7fbc7c077d70>"
      ]
     },
     "execution_count": 38,
     "metadata": {},
     "output_type": "execute_result"
    }
   ],
   "source": [
    "con.execute(\"DELETE FROM provider_groups\")\n",
    "con.execute(\"DELETE FROM npi_tin\")\n",
    "con.execute(\"DELETE FROM negotiated_rates\")\n",
    "con.execute(\"DELETE FROM npi_negotiated_rates\")"
   ]
  },
  {
   "cell_type": "code",
   "execution_count": 31,
   "id": "9c5ffc9d",
   "metadata": {},
   "outputs": [
    {
     "name": "stdout",
     "output_type": "stream",
     "text": [
      "extracted/xaa/1.json file\n",
      "extracted/xaa/10.json file\n",
      "extracted/xaa/11.json file\n",
      "extracted/xaa/2.json file\n",
      "extracted/xaa/3.json file\n",
      "extracted/xaa/4.json file\n",
      "extracted/xaa/5.json file\n",
      "extracted/xaa/6.json file\n",
      "extracted/xaa/7.json file\n",
      "extracted/xaa/8.json file\n",
      "extracted/xaa/9.json file\n"
     ]
    }
   ],
   "source": []
  },
  {
   "cell_type": "code",
   "execution_count": 32,
   "id": "77500027",
   "metadata": {},
   "outputs": [
    {
     "data": {
      "text/plain": [
       "<duckdb.DuckDBPyConnection at 0x7fbc7c077d70>"
      ]
     },
     "execution_count": 32,
     "metadata": {},
     "output_type": "execute_result"
    }
   ],
   "source": [
    "con.executemany('INSERT INTO provider_groups VALUES (?, ?)', pgs)\n",
    "con.executemany('INSERT INTO npi_tin VALUES (?, ?)', npi_tins)\n",
    "con.executemany('INSERT INTO negotiated_rates VALUES (?, ?, ?, ?, ?, ?, ?, ?, ?)', negotiated_rates)\n",
    "con.executemany('INSERT INTO npi_negotiated_rates VALUES (?, ?)', npi_negotiated_rates)"
   ]
  },
  {
   "cell_type": "code",
   "execution_count": 33,
   "id": "45340835",
   "metadata": {},
   "outputs": [
    {
     "data": {
      "text/plain": [
       "<duckdb.DuckDBPyConnection at 0x7fbc7c077d70>"
      ]
     },
     "execution_count": 33,
     "metadata": {},
     "output_type": "execute_result"
    }
   ],
   "source": []
  },
  {
   "cell_type": "code",
   "execution_count": 34,
   "id": "9059722b",
   "metadata": {},
   "outputs": [
    {
     "data": {
      "text/plain": [
       "<duckdb.DuckDBPyConnection at 0x7fbc7c077d70>"
      ]
     },
     "execution_count": 34,
     "metadata": {},
     "output_type": "execute_result"
    }
   ],
   "source": []
  },
  {
   "cell_type": "code",
   "execution_count": 37,
   "id": "031b22c0",
   "metadata": {},
   "outputs": [
    {
     "ename": "RuntimeError",
     "evalue": "Query interrupted",
     "output_type": "error",
     "traceback": [
      "\u001b[0;31m---------------------------------------------------------------------------\u001b[0m",
      "\u001b[0;31mKeyboardInterrupt\u001b[0m                         Traceback (most recent call last)",
      "\u001b[0;31mKeyboardInterrupt\u001b[0m: ",
      "\nThe above exception was the direct cause of the following exception:\n",
      "\u001b[0;31mRuntimeError\u001b[0m                              Traceback (most recent call last)",
      "Input \u001b[0;32mIn [37]\u001b[0m, in \u001b[0;36m<cell line: 1>\u001b[0;34m()\u001b[0m\n\u001b[0;32m----> 1\u001b[0m \u001b[43mcon\u001b[49m\u001b[38;5;241;43m.\u001b[39;49m\u001b[43mexecutemany\u001b[49m\u001b[43m(\u001b[49m\u001b[38;5;124;43m'\u001b[39;49m\u001b[38;5;124;43mINSERT INTO npi_negotiated_rates VALUES (?, ?)\u001b[39;49m\u001b[38;5;124;43m'\u001b[39;49m\u001b[43m,\u001b[49m\u001b[43m \u001b[49m\u001b[43mnpi_negotiated_rates\u001b[49m\u001b[43m)\u001b[49m\n",
      "\u001b[0;31mRuntimeError\u001b[0m: Query interrupted"
     ]
    }
   ],
   "source": []
  }
 ],
 "metadata": {
  "kernelspec": {
   "display_name": "Python 3 (ipykernel)",
   "language": "python",
   "name": "python3"
  },
  "language_info": {
   "codemirror_mode": {
    "name": "ipython",
    "version": 3
   },
   "file_extension": ".py",
   "mimetype": "text/x-python",
   "name": "python",
   "nbconvert_exporter": "python",
   "pygments_lexer": "ipython3",
   "version": "3.8.13"
  }
 },
 "nbformat": 4,
 "nbformat_minor": 5
}
