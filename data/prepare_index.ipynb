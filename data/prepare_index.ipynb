{
 "cells": [
  {
   "cell_type": "code",
   "execution_count": 2,
   "id": "fc376360",
   "metadata": {},
   "outputs": [
    {
     "name": "stdout",
     "output_type": "stream",
     "text": [
      "Collecting duckdb\n",
      "  Downloading duckdb-0.4.0-cp38-cp38-manylinux_2_17_x86_64.manylinux2014_x86_64.whl (15.7 MB)\n",
      "\u001b[2K     \u001b[90m━━━━━━━━━━━━━━━━━━━━━━━━━━━━━━━━━━━━━━━\u001b[0m \u001b[32m15.7/15.7 MB\u001b[0m \u001b[31m124.2 MB/s\u001b[0m eta \u001b[36m0:00:00\u001b[0m00:01\u001b[0m00:01\u001b[0m\n",
      "\u001b[?25hCollecting uuid\n",
      "  Downloading uuid-1.30.tar.gz (5.8 kB)\n",
      "  Preparing metadata (setup.py) ... \u001b[?25ldone\n",
      "\u001b[?25hCollecting pandas\n",
      "  Downloading pandas-1.4.3-cp38-cp38-manylinux_2_17_x86_64.manylinux2014_x86_64.whl (11.7 MB)\n",
      "\u001b[2K     \u001b[90m━━━━━━━━━━━━━━━━━━━━━━━━━━━━━━━━━━━━━━━\u001b[0m \u001b[32m11.7/11.7 MB\u001b[0m \u001b[31m139.6 MB/s\u001b[0m eta \u001b[36m0:00:00\u001b[0m00:01\u001b[0m00:01\u001b[0m\n",
      "\u001b[?25hCollecting numpy>=1.14\n",
      "  Downloading numpy-1.23.1-cp38-cp38-manylinux_2_17_x86_64.manylinux2014_x86_64.whl (17.1 MB)\n",
      "\u001b[2K     \u001b[90m━━━━━━━━━━━━━━━━━━━━━━━━━━━━━━━━━━━━━━━\u001b[0m \u001b[32m17.1/17.1 MB\u001b[0m \u001b[31m128.0 MB/s\u001b[0m eta \u001b[36m0:00:00\u001b[0m00:01\u001b[0m00:01\u001b[0m\n",
      "\u001b[?25hCollecting pytz>=2020.1\n",
      "  Downloading pytz-2022.1-py2.py3-none-any.whl (503 kB)\n",
      "\u001b[2K     \u001b[90m━━━━━━━━━━━━━━━━━━━━━━━━━━━━━━━━━━━━━\u001b[0m \u001b[32m503.5/503.5 kB\u001b[0m \u001b[31m108.3 MB/s\u001b[0m eta \u001b[36m0:00:00\u001b[0m\n",
      "\u001b[?25hRequirement already satisfied: python-dateutil>=2.8.1 in /home/gitpod/.pyenv/versions/3.8.13/lib/python3.8/site-packages (from pandas) (2.8.2)\n",
      "Requirement already satisfied: six>=1.5 in /home/gitpod/.pyenv/versions/3.8.13/lib/python3.8/site-packages (from python-dateutil>=2.8.1->pandas) (1.16.0)\n",
      "Building wheels for collected packages: uuid\n",
      "  Building wheel for uuid (setup.py) ... \u001b[?25ldone\n",
      "\u001b[?25h  Created wheel for uuid: filename=uuid-1.30-py3-none-any.whl size=6480 sha256=0afa824b06031d8df9bca547c53a1f47742e23ca251359ae69bd0ffa0b691a37\n",
      "  Stored in directory: /home/gitpod/.cache/pip/wheels/1b/6c/cb/f9aae2bc97333c3d6e060826c1ee9e44e46306a178e5783505\n",
      "Successfully built uuid\n",
      "Installing collected packages: uuid, pytz, numpy, pandas, duckdb\n",
      "Successfully installed duckdb-0.4.0 numpy-1.23.1 pandas-1.4.3 pytz-2022.1 uuid-1.30\n"
     ]
    }
   ],
   "source": [
    "!pip install duckdb uuid pandas"
   ]
  },
  {
   "cell_type": "code",
   "execution_count": 3,
   "id": "375731f4",
   "metadata": {},
   "outputs": [],
   "source": [
    "import pandas as pd\n",
    "import mmap\n",
    "import os\n",
    "import duckdb\n",
    "import uuid\n",
    "import json\n",
    "import glob"
   ]
  },
  {
   "cell_type": "code",
   "execution_count": 27,
   "id": "a5349b46",
   "metadata": {},
   "outputs": [],
   "source": [
    "!cat ../data/xxx/xaa | ../build/json-buffet > extracted_npi_offsets.csv"
   ]
  },
  {
   "cell_type": "code",
   "execution_count": 15,
   "id": "ada92ed8",
   "metadata": {},
   "outputs": [],
   "source": [
    "fbuff = open(\"../data/xxx/xaa\", mode=\"r\", encoding=\"utf8\")"
   ]
  },
  {
   "cell_type": "code",
   "execution_count": 29,
   "id": "43fbbb4d",
   "metadata": {},
   "outputs": [],
   "source": [
    "df = pd.read_csv('./extracted_npi_offsets.csv', names=['NPI', 'offset', 'size'])"
   ]
  },
  {
   "cell_type": "code",
   "execution_count": 30,
   "id": "b1a30231",
   "metadata": {},
   "outputs": [
    {
     "data": {
      "text/html": [
       "<div>\n",
       "<style scoped>\n",
       "    .dataframe tbody tr th:only-of-type {\n",
       "        vertical-align: middle;\n",
       "    }\n",
       "\n",
       "    .dataframe tbody tr th {\n",
       "        vertical-align: top;\n",
       "    }\n",
       "\n",
       "    .dataframe thead th {\n",
       "        text-align: right;\n",
       "    }\n",
       "</style>\n",
       "<table border=\"1\" class=\"dataframe\">\n",
       "  <thead>\n",
       "    <tr style=\"text-align: right;\">\n",
       "      <th></th>\n",
       "      <th>NPI</th>\n",
       "      <th>offset</th>\n",
       "      <th>size</th>\n",
       "    </tr>\n",
       "  </thead>\n",
       "  <tbody>\n",
       "    <tr>\n",
       "      <th>0</th>\n",
       "      <td>1962697342</td>\n",
       "      <td>99985389</td>\n",
       "      <td>4510</td>\n",
       "    </tr>\n",
       "    <tr>\n",
       "      <th>1</th>\n",
       "      <td>1992023816</td>\n",
       "      <td>99985389</td>\n",
       "      <td>4510</td>\n",
       "    </tr>\n",
       "    <tr>\n",
       "      <th>2</th>\n",
       "      <td>1861835290</td>\n",
       "      <td>99985389</td>\n",
       "      <td>4510</td>\n",
       "    </tr>\n",
       "    <tr>\n",
       "      <th>3</th>\n",
       "      <td>1801865787</td>\n",
       "      <td>99985389</td>\n",
       "      <td>4510</td>\n",
       "    </tr>\n",
       "    <tr>\n",
       "      <th>4</th>\n",
       "      <td>1861699548</td>\n",
       "      <td>99985389</td>\n",
       "      <td>4510</td>\n",
       "    </tr>\n",
       "    <tr>\n",
       "      <th>...</th>\n",
       "      <td>...</td>\n",
       "      <td>...</td>\n",
       "      <td>...</td>\n",
       "    </tr>\n",
       "    <tr>\n",
       "      <th>5424824</th>\n",
       "      <td>1154400513</td>\n",
       "      <td>84086296</td>\n",
       "      <td>599607</td>\n",
       "    </tr>\n",
       "    <tr>\n",
       "      <th>5424825</th>\n",
       "      <td>1174502934</td>\n",
       "      <td>59477315</td>\n",
       "      <td>1422148</td>\n",
       "    </tr>\n",
       "    <tr>\n",
       "      <th>5424826</th>\n",
       "      <td>1710414560</td>\n",
       "      <td>45976282</td>\n",
       "      <td>6567</td>\n",
       "    </tr>\n",
       "    <tr>\n",
       "      <th>5424827</th>\n",
       "      <td>1720224801</td>\n",
       "      <td>59477315</td>\n",
       "      <td>1422148</td>\n",
       "    </tr>\n",
       "    <tr>\n",
       "      <th>5424828</th>\n",
       "      <td>1053430645</td>\n",
       "      <td>59477315</td>\n",
       "      <td>1422148</td>\n",
       "    </tr>\n",
       "  </tbody>\n",
       "</table>\n",
       "<p>5424829 rows × 3 columns</p>\n",
       "</div>"
      ],
      "text/plain": [
       "                NPI    offset     size\n",
       "0        1962697342  99985389     4510\n",
       "1        1992023816  99985389     4510\n",
       "2        1861835290  99985389     4510\n",
       "3        1801865787  99985389     4510\n",
       "4        1861699548  99985389     4510\n",
       "...             ...       ...      ...\n",
       "5424824  1154400513  84086296   599607\n",
       "5424825  1174502934  59477315  1422148\n",
       "5424826  1710414560  45976282     6567\n",
       "5424827  1720224801  59477315  1422148\n",
       "5424828  1053430645  59477315  1422148\n",
       "\n",
       "[5424829 rows x 3 columns]"
      ]
     },
     "execution_count": 30,
     "metadata": {},
     "output_type": "execute_result"
    }
   ],
   "source": [
    "df"
   ]
  },
  {
   "cell_type": "code",
   "execution_count": 40,
   "id": "397e3f08",
   "metadata": {},
   "outputs": [],
   "source": [
    "NPI = 1720224801\n",
    "NPI_DB = f'{NPI}_indexed.db'"
   ]
  },
  {
   "cell_type": "code",
   "execution_count": 41,
   "id": "65f67e4e",
   "metadata": {},
   "outputs": [
    {
     "data": {
      "text/plain": [
       "<duckdb.DuckDBPyConnection at 0x7fdccdb35230>"
      ]
     },
     "execution_count": 41,
     "metadata": {},
     "output_type": "execute_result"
    }
   ],
   "source": [
    "con = duckdb.connect(database=NPI_DB, read_only=False)\n",
    "con.execute(\"CREATE OR REPLACE TABLE extract(id UUID default uuid(), file VARCHAR, extracted_at TIMESTAMP, offs INTEGER, size INTEGER)\")\n",
    "con.execute(\"CREATE OR REPLACE TABLE provider_groups(tin VARCHAR, type VARCHAR)\")\n",
    "con.execute(\"CREATE OR REPLACE TABLE npi_tin(npi VARCHAR, tin VARCHAR)\")\n",
    "con.execute(\"CREATE OR REPLACE TABLE npi_extract(npi VARCHAR, extract UUID)\")\n",
    "con.execute(\"CREATE OR REPLACE TABLE negotiated_rates(id UUID default uuid(), tin VARCHAR, negotiated_type VARCHAR, negotiation_rate DOUBLE, expiration_date TIMESTAMP, service_code VARCHAR[], billing_class VARCHAR, billing_code_modifier VARCHAR[], additional_information VARCHAR)\")\n",
    "con.execute(\"CREATE OR REPLACE TABLE npi_negotiated_rates(negotiate_rate_id UUID, npi VARCHAR)\")\n"
   ]
  },
  {
   "cell_type": "code",
   "execution_count": 43,
   "id": "aa69b282",
   "metadata": {},
   "outputs": [
    {
     "name": "stdout",
     "output_type": "stream",
     "text": [
      "Reading record\n"
     ]
    }
   ],
   "source": [
    "for row in df[df[\"NPI\"] == NPI].to_records():\n",
    "    print(\"Reading record\")\n",
    "    fbuff.seek(row[2], 0)\n",
    "    data = fbuff.read(row[3])\n",
    "    obj = json.loads(data)\n",
    "    pgs = []\n",
    "    pg_tin = {}\n",
    "    npi_tins = []\n",
    "    negotiated_rates = []\n",
    "    npi_negotiated_rates = []\n",
    "\n",
    "    provider_groups = obj['provider_groups']\n",
    "    #print(obj\n",
    "    for pg in provider_groups:\n",
    "        tin = pg['tin']['value']\n",
    "        npis = pg['npi']\n",
    "\n",
    "       # print(pg)\n",
    "        if (pg_tin.get(tin) != True):\n",
    "            pgs.append([tin, pg['tin']['type']])\n",
    "            pg_tin[tin] = True\n",
    "\n",
    "        for npi in npis:\n",
    "            npi_tins.append([npi, tin])\n",
    "    for nr in obj['negotiated_prices']:\n",
    "        nr_id = str(uuid.uuid4())\n",
    "        negotiated_rates.append([\n",
    "            nr_id,\n",
    "            tin,\n",
    "            nr['negotiated_type'],\n",
    "            nr['negotiated_rate'],\n",
    "            nr['expiration_date'],\n",
    "            nr['service_code'],\n",
    "            nr['billing_class'],\n",
    "            nr['billing_code_modifier'],\n",
    "            nr['additional_information']\n",
    "        ])\n",
    "        for npi in npi_tins:\n",
    "            npi_negotiated_rates.append([\n",
    "                nr_id,\n",
    "                npi[0]\n",
    "            ])\n",
    "    con.executemany('INSERT INTO provider_groups VALUES (?, ?)', pgs)\n",
    "    con.executemany('INSERT INTO npi_tin VALUES (?, ?)', npi_tins)\n",
    "    con.executemany('INSERT INTO negotiated_rates VALUES (?, ?, ?, ?, ?, ?, ?, ?, ?)', negotiated_rates)"
   ]
  },
  {
   "cell_type": "code",
   "execution_count": 44,
   "id": "b93cac16",
   "metadata": {},
   "outputs": [
    {
     "name": "stdout",
     "output_type": "stream",
     "text": [
      "-rw-r--r-- 1 gitpod gitpod 12K Jul 12 16:42 1720224801_indexed.db\r\n"
     ]
    }
   ],
   "source": [
    "!ls -lahrt $NPI_DB"
   ]
  },
  {
   "cell_type": "code",
   "execution_count": 34,
   "id": "e36da567",
   "metadata": {},
   "outputs": [
    {
     "data": {
      "text/plain": [
       "[(340,)]"
      ]
     },
     "execution_count": 34,
     "metadata": {},
     "output_type": "execute_result"
    }
   ],
   "source": [
    "con.execute(\"select count(distinct npi) from npi_tin\").fetchall()"
   ]
  },
  {
   "cell_type": "code",
   "execution_count": 35,
   "id": "b5b2f622",
   "metadata": {},
   "outputs": [
    {
     "data": {
      "text/plain": [
       "[(UUID('864f1a2c-675a-4c5c-ba3d-3fa41d076bbb'),\n",
       "  '204435701',\n",
       "  'fee schedule',\n",
       "  356.99,\n",
       "  datetime.datetime(9999, 12, 31, 0, 0),\n",
       "  ['02',\n",
       "   '05',\n",
       "   '06',\n",
       "   '07',\n",
       "   '08',\n",
       "   '19',\n",
       "   '21',\n",
       "   '22',\n",
       "   '23',\n",
       "   '24',\n",
       "   '26',\n",
       "   '31',\n",
       "   '34',\n",
       "   '41',\n",
       "   '42',\n",
       "   '51',\n",
       "   '52',\n",
       "   '53',\n",
       "   '56',\n",
       "   '61'],\n",
       "  'professional',\n",
       "  [''],\n",
       "  ''),\n",
       " (UUID('654c116b-ac7e-482f-bfdf-f19f51b19d41'),\n",
       "  '204435701',\n",
       "  'fee schedule',\n",
       "  478.36,\n",
       "  datetime.datetime(9999, 12, 31, 0, 0),\n",
       "  ['01',\n",
       "   '03',\n",
       "   '04',\n",
       "   '09',\n",
       "   '11',\n",
       "   '12',\n",
       "   '13',\n",
       "   '14',\n",
       "   '15',\n",
       "   '16',\n",
       "   '17',\n",
       "   '18',\n",
       "   '20',\n",
       "   '25',\n",
       "   '32',\n",
       "   '33',\n",
       "   '49',\n",
       "   '50',\n",
       "   '54',\n",
       "   '55',\n",
       "   '57',\n",
       "   '60',\n",
       "   '62',\n",
       "   '65',\n",
       "   '71',\n",
       "   '72',\n",
       "   '81',\n",
       "   '99'],\n",
       "  'professional',\n",
       "  [''],\n",
       "  '')]"
      ]
     },
     "execution_count": 35,
     "metadata": {},
     "output_type": "execute_result"
    }
   ],
   "source": [
    "con.execute(\"select avg(negotiated_rate) from negotiated_rates\").fetchall()"
   ]
  },
  {
   "cell_type": "code",
   "execution_count": 113,
   "id": "bb35c658",
   "metadata": {},
   "outputs": [],
   "source": []
  },
  {
   "cell_type": "code",
   "execution_count": 111,
   "id": "b940d74d",
   "metadata": {},
   "outputs": [
    {
     "data": {
      "text/plain": [
       "<duckdb.DuckDBPyConnection at 0x7fbbef7253f0>"
      ]
     },
     "execution_count": 111,
     "metadata": {},
     "output_type": "execute_result"
    }
   ],
   "source": [
    "con.execute(\"DELETE FROM provider_groups\")\n",
    "con.execute(\"DELETE FROM npi_tin\")\n",
    "con.execute(\"DELETE FROM negotiated_rates\")\n",
    "con.execute(\"DELETE FROM npi_negotiated_rates\")"
   ]
  }
 ],
 "metadata": {
  "kernelspec": {
   "display_name": "Python 3 (ipykernel)",
   "language": "python",
   "name": "python3"
  },
  "language_info": {
   "codemirror_mode": {
    "name": "ipython",
    "version": 3
   },
   "file_extension": ".py",
   "mimetype": "text/x-python",
   "name": "python",
   "nbconvert_exporter": "python",
   "pygments_lexer": "ipython3",
   "version": "3.8.13"
  }
 },
 "nbformat": 4,
 "nbformat_minor": 5
}
