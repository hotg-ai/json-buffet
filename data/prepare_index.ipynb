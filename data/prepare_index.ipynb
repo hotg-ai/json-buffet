{
 "cells": [
  {
   "cell_type": "code",
   "execution_count": 27,
   "id": "e36da567",
   "metadata": {},
   "outputs": [],
   "source": [
    "import duckdb"
   ]
  },
  {
   "cell_type": "code",
   "execution_count": 28,
   "id": "b5b2f622",
   "metadata": {},
   "outputs": [],
   "source": [
    "con = duckdb.connect(database='indexed.duckdb', read_only=False)"
   ]
  },
  {
   "cell_type": "code",
   "execution_count": 29,
   "id": "cf93c1f3",
   "metadata": {},
   "outputs": [
    {
     "data": {
      "text/plain": [
       "<duckdb.DuckDBPyConnection at 0x7fd95a7543b0>"
      ]
     },
     "execution_count": 29,
     "metadata": {},
     "output_type": "execute_result"
    }
   ],
   "source": [
    "\n",
    "con.execute(\"CREATE OR REPLACE TABLE extract(id UUID default uuid(), file VARCHAR, extracted_at TIMESTAMP, offs INTEGER, size INTEGER)\")\n",
    "con.execute(\"CREATE OR REPLACE TABLE provider_groups(tin VARCHAR PRIMARY KEY, type VARCHAR)\")\n",
    "con.execute(\"CREATE OR REPLACE TABLE npi_tin(npi VARCHAR, tin VARCHAR)\")\n",
    "con.execute(\"CREATE OR REPLACE TABLE npi_extract(npi VARCHAR, extract UUID)\")\n",
    "con.execute(\"CREATE OR REPLACE TABLE negotiated_rates(id UUID default uuid(), tin VARCHAR, negotiated_type VARCHAR, negotiation_rate DOUBLE, expiration_date TIMESTAMP, service_code VARCHAR[], billing_class VARCHAR, billing_code_modifier VARCHAR[], additional_information VARCHAR)\")\n",
    "con.execute(\"CREATE OR REPLACE TABLE npi_negotiated_rates(negotiate_rate_id UUID, npi VARCHAR)\")\n"
   ]
  },
  {
   "cell_type": "code",
   "execution_count": null,
   "id": "14395d7a",
   "metadata": {},
   "outputs": [],
   "source": []
  },
  {
   "cell_type": "code",
   "execution_count": 3,
   "id": "ab610d5f",
   "metadata": {},
   "outputs": [],
   "source": [
    "import pandas as pd\n",
    "import json"
   ]
  },
  {
   "cell_type": "code",
   "execution_count": 6,
   "id": "1ad7df32",
   "metadata": {},
   "outputs": [],
   "source": [
    "import glob"
   ]
  },
  {
   "cell_type": "code",
   "execution_count": 23,
   "id": "31d14f00",
   "metadata": {},
   "outputs": [
    {
     "name": "stdout",
     "output_type": "stream",
     "text": [
      "extracted/xaa/1.json file\n",
      "{'negotiated_type': 'fee schedule', 'negotiated_rate': 67.89, 'expiration_date': '9999-12-31T00:00:00.000000000000', 'service_code': ['02', '05', '06', '07', '08', '19', '21', '22', '23', '24', '26', '31', '34', '41', '42', '51', '52', '53', '56', '61'], 'billing_class': 'professional', 'billing_code_modifier': [''], 'additional_information': ''}\n",
      "{'negotiated_type': 'fee schedule', 'negotiated_rate': 92.44, 'expiration_date': '9999-12-31T00:00:00.000000000000', 'service_code': ['01', '03', '04', '09', '11', '12', '13', '14', '15', '16', '17', '18', '20', '25', '32', '33', '49', '50', '54', '55', '57', '60', '62', '65', '71', '72', '81', '99'], 'billing_class': 'professional', 'billing_code_modifier': [''], 'additional_information': ''}\n",
      "extracted/xaa/2.json file\n",
      "{'negotiated_type': 'fee schedule', 'negotiated_rate': 70.08, 'expiration_date': '9999-12-31T00:00:00.000000000000', 'service_code': ['02', '05', '06', '07', '08', '19', '21', '22', '23', '24', '26', '31', '34', '41', '42', '51', '52', '53', '56', '61'], 'billing_class': 'professional', 'billing_code_modifier': [''], 'additional_information': ''}\n",
      "{'negotiated_type': 'fee schedule', 'negotiated_rate': 94.26, 'expiration_date': '9999-12-31T00:00:00.000000000000', 'service_code': ['01', '03', '04', '09', '11', '12', '13', '14', '15', '16', '17', '18', '20', '25', '32', '33', '49', '50', '54', '55', '57', '60', '62', '65', '71', '72', '81', '99'], 'billing_class': 'professional', 'billing_code_modifier': [''], 'additional_information': ''}\n",
      "extracted/xaa/3.json file\n",
      "{'negotiated_type': 'fee schedule', 'negotiated_rate': 80.08, 'expiration_date': '9999-12-31T00:00:00.000000000000', 'service_code': ['01', '03', '04', '09', '11', '12', '13', '14', '15', '16', '17', '18', '20', '25', '32', '33', '49', '50', '54', '55', '57', '60', '62', '65', '71', '72', '81', '99'], 'billing_class': 'professional', 'billing_code_modifier': [''], 'additional_information': ''}\n",
      "{'negotiated_type': 'fee schedule', 'negotiated_rate': 59.54, 'expiration_date': '9999-12-31T00:00:00.000000000000', 'service_code': ['02', '05', '06', '07', '08', '19', '21', '22', '23', '24', '26', '31', '34', '41', '42', '51', '52', '53', '56', '61'], 'billing_class': 'professional', 'billing_code_modifier': [''], 'additional_information': ''}\n",
      "extracted/xaa/4.json file\n",
      "{'negotiated_type': 'fee schedule', 'negotiated_rate': 60.55, 'expiration_date': '9999-12-31T00:00:00.000000000000', 'service_code': ['01', '03', '04', '09', '11', '12', '13', '14', '15', '16', '17', '18', '20', '25', '32', '33', '49', '50', '54', '55', '57', '60', '62', '65', '71', '72', '81', '99'], 'billing_class': 'professional', 'billing_code_modifier': [''], 'additional_information': ''}\n",
      "{'negotiated_type': 'fee schedule', 'negotiated_rate': 45.01, 'expiration_date': '9999-12-31T00:00:00.000000000000', 'service_code': ['02', '05', '06', '07', '08', '19', '21', '22', '23', '24', '26', '31', '34', '41', '42', '51', '52', '53', '56', '61'], 'billing_class': 'professional', 'billing_code_modifier': [''], 'additional_information': ''}\n",
      "extracted/xaa/5.json file\n",
      "{'negotiated_type': 'fee schedule', 'negotiated_rate': 105.21, 'expiration_date': '9999-12-31T00:00:00.000000000000', 'service_code': ['02', '05', '06', '07', '08', '19', '21', '22', '23', '24', '26', '31', '34', '41', '42', '51', '52', '53', '56', '61'], 'billing_class': 'professional', 'billing_code_modifier': [''], 'additional_information': ''}\n",
      "{'negotiated_type': 'fee schedule', 'negotiated_rate': 141.52, 'expiration_date': '9999-12-31T00:00:00.000000000000', 'service_code': ['01', '03', '04', '09', '11', '12', '13', '14', '15', '16', '17', '18', '20', '25', '32', '33', '49', '50', '54', '55', '57', '60', '62', '65', '71', '72', '81', '99'], 'billing_class': 'professional', 'billing_code_modifier': [''], 'additional_information': ''}\n",
      "extracted/xaa/6.json file\n",
      "{'negotiated_type': 'fee schedule', 'negotiated_rate': 358.59, 'expiration_date': '9999-12-31T00:00:00.000000000000', 'service_code': ['01', '02', '03', '04', '05', '06', '07', '08', '09', '10', '11', '12', '13', '14', '15', '16', '17', '18', '19', '20', '21', '22', '23', '24', '25', '26', '31', '32', '33', '34', '41', '42', '49', '50', '51', '52', '53', '54', '55', '56', '57', '58', '60', '61', '62', '65', '71', '72', '81', '99'], 'billing_class': 'professional', 'billing_code_modifier': [''], 'additional_information': ''}\n",
      "extracted/xaa/7.json file\n",
      "{'negotiated_type': 'fee schedule', 'negotiated_rate': 533.4, 'expiration_date': '9999-12-31T00:00:00.000000000000', 'service_code': ['01', '02', '03', '04', '05', '06', '07', '08', '09', '10', '11', '12', '13', '14', '15', '16', '17', '18', '19', '20', '21', '22', '23', '24', '25', '26', '31', '32', '33', '34', '41', '42', '49', '50', '51', '52', '53', '54', '55', '56', '57', '58', '60', '61', '62', '65', '71', '72', '81', '99'], 'billing_class': 'professional', 'billing_code_modifier': [''], 'additional_information': ''}\n",
      "extracted/xaa/8.json file\n",
      "{'negotiated_type': 'fee schedule', 'negotiated_rate': 505.19, 'expiration_date': '9999-12-31T00:00:00.000000000000', 'service_code': ['01', '02', '03', '04', '05', '06', '07', '08', '09', '10', '11', '12', '13', '14', '15', '16', '17', '18', '19', '20', '21', '22', '23', '24', '25', '26', '31', '32', '33', '34', '41', '42', '49', '50', '51', '52', '53', '54', '55', '56', '57', '58', '60', '61', '62', '65', '71', '72', '81', '99'], 'billing_class': 'professional', 'billing_code_modifier': [''], 'additional_information': ''}\n",
      "extracted/xaa/9.json file\n",
      "{'negotiated_type': 'fee schedule', 'negotiated_rate': 557.75, 'expiration_date': '9999-12-31T00:00:00.000000000000', 'service_code': ['01', '02', '03', '04', '05', '06', '07', '08', '09', '10', '11', '12', '13', '14', '15', '16', '17', '18', '19', '20', '21', '22', '23', '24', '25', '26', '31', '32', '33', '34', '41', '42', '49', '50', '51', '52', '53', '54', '55', '56', '57', '58', '60', '61', '62', '65', '71', '72', '81', '99'], 'billing_class': 'professional', 'billing_code_modifier': [''], 'additional_information': ''}\n",
      "extracted/xaa/10.json file\n",
      "{'negotiated_type': 'fee schedule', 'negotiated_rate': 473.86, 'expiration_date': '9999-12-31T00:00:00.000000000000', 'service_code': ['01', '02', '03', '04', '05', '06', '07', '08', '09', '10', '11', '12', '13', '14', '15', '16', '17', '18', '19', '20', '21', '22', '23', '24', '25', '26', '31', '32', '33', '34', '41', '42', '49', '50', '51', '52', '53', '54', '55', '56', '57', '58', '60', '61', '62', '65', '71', '72', '81', '99'], 'billing_class': 'professional', 'billing_code_modifier': [''], 'additional_information': ''}\n",
      "extracted/xaa/11.json file\n",
      "{'negotiated_type': 'fee schedule', 'negotiated_rate': 7.21, 'expiration_date': '9999-12-31T00:00:00.000000000000', 'service_code': ['01', '02', '03', '04', '05', '06', '07', '08', '09', '10', '11', '12', '13', '14', '15', '16', '17', '18', '19', '20', '21', '22', '23', '24', '25', '26', '31', '32', '33', '34', '41', '42', '49', '50', '51', '52', '53', '54', '55', '56', '57', '58', '60', '61', '62', '65', '71', '72', '81', '99'], 'billing_class': 'professional', 'billing_code_modifier': [''], 'additional_information': ''}\n"
     ]
    }
   ],
   "source": [
    "for name in glob.glob('extracted/xaa/*.json'):\n",
    "    print(f\"{name} file\")\n",
    "    f = open(name, \"r\")\n",
    "    obj = json.load(f)\n",
    "    for negotiated_rate in obj['negotiated_prices']:\n",
    "        print(negotiated_rate)"
   ]
  },
  {
   "cell_type": "code",
   "execution_count": 15,
   "id": "9c5ffc9d",
   "metadata": {},
   "outputs": [
    {
     "name": "stdout",
     "output_type": "stream",
     "text": [
      "extracted/xaa/1.json file\n",
      "{'tin': {'type': 'ein', 'value': '720998823'}, 'npi': [1316036643, 1992895783]}\n"
     ]
    },
    {
     "ename": "NameError",
     "evalue": "name 'pgs' is not defined",
     "output_type": "error",
     "traceback": [
      "\u001b[0;31m---------------------------------------------------------------------------\u001b[0m",
      "\u001b[0;31mNameError\u001b[0m                                 Traceback (most recent call last)",
      "Input \u001b[0;32mIn [15]\u001b[0m, in \u001b[0;36m<cell line: 1>\u001b[0;34m()\u001b[0m\n\u001b[1;32m      9\u001b[0m tin \u001b[38;5;241m=\u001b[39m pg[\u001b[38;5;124m'\u001b[39m\u001b[38;5;124mtin\u001b[39m\u001b[38;5;124m'\u001b[39m][\u001b[38;5;124m'\u001b[39m\u001b[38;5;124mvalue\u001b[39m\u001b[38;5;124m'\u001b[39m]\n\u001b[1;32m     10\u001b[0m npis \u001b[38;5;241m=\u001b[39m pg[\u001b[38;5;124m'\u001b[39m\u001b[38;5;124mnpi\u001b[39m\u001b[38;5;124m'\u001b[39m]\n\u001b[0;32m---> 11\u001b[0m \u001b[43mpgs\u001b[49m\u001b[38;5;241m.\u001b[39mappend({\u001b[38;5;124m\"\u001b[39m\u001b[38;5;124mtin\u001b[39m\u001b[38;5;124m\"\u001b[39m: tin, \u001b[38;5;124m\"\u001b[39m\u001b[38;5;124mtin_type\u001b[39m\u001b[38;5;124m\"\u001b[39m: pg[\u001b[38;5;124m'\u001b[39m\u001b[38;5;124mtype\u001b[39m\u001b[38;5;124m'\u001b[39m]})\n\u001b[1;32m     12\u001b[0m \u001b[38;5;28;01mfor\u001b[39;00m npi \u001b[38;5;129;01min\u001b[39;00m npis:\n\u001b[1;32m     13\u001b[0m     \u001b[38;5;28mprint\u001b[39m(npi)\n",
      "\u001b[0;31mNameError\u001b[0m: name 'pgs' is not defined"
     ]
    }
   ],
   "source": [
    "for name in glob.glob('extracted/xaa/*.json'):\n",
    "    print(f\"{name} file\")\n",
    "    f = open(name, \"r\")\n",
    "    obj = json.load(f)\n",
    "    provider_groups = obj['provider_groups']\n",
    "    #print(obj\n",
    "    for pg in provider_groups:\n",
    "        print(pg)\n",
    "        tin = pg['tin']['value']\n",
    "        npis = pg['npi']\n",
    "        pgs.append({\"tin\": tin, \"tin_type\": pg['type']})\n",
    "        for npi in npis:\n",
    "            print(npi)\n",
    "    for negotiated_rate in obj['negotiated_prices']:\n",
    "        print(negotiated_rate)"
   ]
  },
  {
   "cell_type": "code",
   "execution_count": 5,
   "id": "213153c8",
   "metadata": {},
   "outputs": [
    {
     "name": "stdout",
     "output_type": "stream",
     "text": [
      "10.json  1.json  3.json  5.json  7.json  9.json\r\n",
      "11.json  2.json  4.json  6.json  8.json\r\n"
     ]
    }
   ],
   "source": [
    "!ls extracted/xaa/"
   ]
  },
  {
   "cell_type": "code",
   "execution_count": null,
   "id": "d2eb816f",
   "metadata": {},
   "outputs": [],
   "source": [
    "con.execute(\"CREATE TABLE items(item VARCHAR, value DECIMAL(10,2), count INTEGER)\")"
   ]
  }
 ],
 "metadata": {
  "kernelspec": {
   "display_name": "Python 3 (ipykernel)",
   "language": "python",
   "name": "python3"
  },
  "language_info": {
   "codemirror_mode": {
    "name": "ipython",
    "version": 3
   },
   "file_extension": ".py",
   "mimetype": "text/x-python",
   "name": "python",
   "nbconvert_exporter": "python",
   "pygments_lexer": "ipython3",
   "version": "3.8.13"
  }
 },
 "nbformat": 4,
 "nbformat_minor": 5
}
